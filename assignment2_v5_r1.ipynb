{
 "cells": [
  {
   "cell_type": "markdown",
   "id": "267f4f06-47c9-40c2-85dd-e1184a685f98",
   "metadata": {
    "tags": []
   },
   "source": [
    "# Part 1: Create the FrozenLake."
   ]
  },
  {
   "cell_type": "code",
   "execution_count": 1,
   "id": "80b1f82c-e8ae-44af-ad2f-38c51158633d",
   "metadata": {
    "tags": []
   },
   "outputs": [],
   "source": [
    "import numpy as np\n",
    "import matplotlib.pyplot as plt"
   ]
  },
  {
   "cell_type": "code",
   "execution_count": 2,
   "id": "1281386f-e5bd-4a3a-bc7a-68545c4e2fa4",
   "metadata": {
    "tags": []
   },
   "outputs": [],
   "source": [
    "# global variables\n",
    "BOARD_ROWS = 5 # 5x5 grid size\n",
    "BOARD_COLS = 5 # 5x5 grid size\n",
    "GOAL = (4, 4) # goal state\n",
    "START = (0, 0) # start state\n",
    "HOLES = [(1,0), (1,3), (3,1), (4,2)] # four holes"
   ]
  },
  {
   "cell_type": "code",
   "execution_count": 22,
   "id": "242e0b71-078d-4a0b-9442-06f8b4d4045a",
   "metadata": {
    "tags": []
   },
   "outputs": [],
   "source": [
    "class State:\n",
    "    def __init__(self, state=START):        \n",
    "        self.state = state\n",
    "        self.isEnd = False        \n",
    "\n",
    "    def getReward(self):\n",
    "        if self.state == GOAL: # The reward for reaching the goal state is +10.0\n",
    "            return 10    \n",
    "        elif self.state in HOLES: # The reward for falling into a hole is -5.0\n",
    "            return -5\n",
    "        else: # the reward for each transition to a non-terminal state is -1.0\n",
    "            return -1\n",
    "\n",
    "    def isEndFunc(self): # The episode ends if the agent falls into a hole or reaches the goal state.\n",
    "        if (self.state == GOAL) or (self.state in HOLES):\n",
    "            self.isEnd = True\n",
    "\n",
    "    def nxtPosition(self, action):      \n",
    "        if action == 0: # up            \n",
    "            nxtState = (self.state[0] - 1, self.state[1])                \n",
    "        elif action == 1: # down\n",
    "            nxtState = (self.state[0] + 1, self.state[1])\n",
    "        elif action == 2: # left\n",
    "            nxtState = (self.state[0], self.state[1] - 1)\n",
    "        else:\n",
    "            nxtState = (self.state[0], self.state[1] + 1)\n",
    "            \n",
    "        if (nxtState[0] >= 0) and (nxtState[0] <= (BOARD_ROWS - 1)):\n",
    "            if (nxtState[1] >= 0) and (nxtState[1] <= (BOARD_COLS - 1)):                    \n",
    "                    return nxtState # if next state legal\n",
    "        \n",
    "        return self.state # Any move off the grid leaves state unchanged\n"
   ]
  },
  {
   "cell_type": "markdown",
   "id": "ad1e9e4e-0247-461f-a2ac-b9253fa9ea6f",
   "metadata": {},
   "source": [
    "# Part 2: Implement the Reinforcement Learning algorithm Q-learning"
   ]
  },
  {
   "cell_type": "code",
   "execution_count": 58,
   "id": "0dc7108a-e44c-4c92-97ab-7f45499c68f2",
   "metadata": {},
   "outputs": [],
   "source": [
    "class Agent:\n",
    "    \n",
    "    def __init__(self, alpha, gamma, eps, eps_decay=False):\n",
    "        self.states = [] \n",
    "        self.actions = [0, 1, 2, 3] # up, down, left, right\n",
    "        self.State = State()\n",
    "        self.alpha = alpha  # determines convergence rate of the algorithm \n",
    "        self.gamma = gamma # discount factor determines importance of future rewards\n",
    "        self.eps = eps # explore/ exploit ratio \n",
    "        self.eps_decay = eps_decay\n",
    "        \n",
    "        # initialise state values\n",
    "        self.action_values = {}\n",
    "        for i in range(BOARD_ROWS):\n",
    "            for j in range(BOARD_COLS):\n",
    "                for k in range(len(self.actions)):\n",
    "                    self.action_values[(i, j, k)] = 0 # set initial value to 0 for Q(s,a)\n",
    "        self.new_action_values = {}\n",
    "        \n",
    "    def chooseAction(self):\n",
    "        # based on policy eps-greedy\n",
    "        mx_nxt_value = 0\n",
    "        action = 0        \n",
    "       \n",
    "        if np.random.uniform(0, 1) <= self.eps:\n",
    "            action = np.random.choice(self.actions)\n",
    "            \n",
    "        else:\n",
    "            # greedy action\n",
    "            for a in self.actions:\n",
    "                nxt_state = self.State.nxtPosition(a)\n",
    "                nxt_value = self.action_values[(nxt_state[0], nxt_state[1], a)]\n",
    "                if nxt_value >= mx_nxt_value:\n",
    "                    action = a\n",
    "                    mx_nxt_value = nxt_value\n",
    "                    \n",
    "        return action\n",
    "    \n",
    "    def takeAction(self, action):\n",
    "        position = self.State.nxtPosition(action)\n",
    "        self.State.state = position\n",
    "        \n",
    "    def QMax(self, action):\n",
    "        mx_nxt_state_value = 0\n",
    "        \n",
    "        if self.State.state == GOAL:\n",
    "            mx_nxt_state_value = 0\n",
    "        else:\n",
    "            for a in self.actions:\n",
    "                # nxt_state = self.State.nxtPosition(a)\n",
    "                nxt_state = self.State.state\n",
    "                nxt_state_value = self.action_values[(nxt_state[0], nxt_state[1], a)]\n",
    "                if nxt_state_value >= mx_nxt_state_value:\n",
    "                    mx_nxt_state_value = nxt_state_value\n",
    "        \n",
    "        return mx_nxt_state_value\n",
    "    \n",
    "    def epsilon_linear_decay(self, episodes): # Linear Decay\n",
    "        delta_eps = (self.eps - 0.0) / episodes\n",
    "        self.eps -= delta_eps\n",
    "        \n",
    "    def epsilon_exp_decay(self):\n",
    "        self.eps *= 0.9\n",
    "    \n",
    "    def q_learning(self, episodes):\n",
    "        x = 0\n",
    "        \n",
    "        self.cum_rewards = np.empty(episodes)\n",
    "        \n",
    "        \n",
    "        # loop through all the states\n",
    "        while x < episodes:\n",
    "            # init S\n",
    "            self.State.isEnd = False\n",
    "            self.State.state = START # re init S Start state   \n",
    "                        \n",
    "            while True: # repeat for each step of the episode until S is terminal\n",
    "                # choose action A from S\n",
    "                action = self.chooseAction()\n",
    "                \n",
    "                # store current state for Q updates\n",
    "                currentState = (self.State.state[0], self.State.state[1], action)\n",
    "                \n",
    "                # take action A and go to next state\n",
    "                self.takeAction(action)\n",
    "                \n",
    "                # reward R of next state\n",
    "                reward = self.State.getReward()\n",
    "                self.cum_rewards[x] = reward\n",
    "                \n",
    "                # mark the end state if it is GOAL or HOLE\n",
    "                self.State.isEndFunc()\n",
    "                \n",
    "                # update state actio values\n",
    "                self.action_values[currentState] = self.action_values[currentState] + \\\n",
    "                                                    self.alpha * (reward + self.gamma * \\\n",
    "                                                                 self.QMax(action) - \\\n",
    "                                                                 self.action_values[currentState])\n",
    "                \n",
    "                # check if S is terminal\n",
    "                if self.State.isEnd:\n",
    "                    state = (self.State.state[0], self.State.state[1], np.random.choice(self.actions))\n",
    "                    self.action_values[state] = reward\n",
    "                    break\n",
    "                    \n",
    "            x += 1\n",
    "            \n",
    "            if self.eps_decay == True:\n",
    "                self.epsilon_linear_decay(episodes)\n",
    "            \n",
    "        self.cumulative_average = np.cumsum(self.cum_rewards) / (np.arange(episodes) + 1)\n",
    "            \n",
    "            \n",
    "    def showValues(self):\n",
    "        for i in range(0, BOARD_ROWS):\n",
    "            print('---------------------------------------')\n",
    "            out = '| '\n",
    "            for j in range(0, BOARD_COLS):\n",
    "                mx_nxt_value = -5\n",
    "                for a in self.actions:\n",
    "                    nxt_value = self.action_values[(i, j, a)]\n",
    "                    if nxt_value >= mx_nxt_value:\n",
    "                        mx_nxt_value = nxt_value\n",
    "                        \n",
    "                out += str(round(mx_nxt_value, 3)).ljust(6) + ' | '\n",
    "            print(out)\n",
    "        print('----------------------------------------')"
   ]
  },
  {
   "cell_type": "code",
   "execution_count": 59,
   "id": "4904e088-343f-4f74-8857-9d18b2400253",
   "metadata": {
    "tags": []
   },
   "outputs": [],
   "source": [
    "def plot_learninf_curve(cum_reward_average):\n",
    "    \n",
    "    # plot moving average ctr\n",
    "    plt.plot(cum_reward_average)\n",
    "    plt.xscale('log')\n",
    "    plt.show()"
   ]
  },
  {
   "cell_type": "markdown",
   "id": "ce789371-d6f2-4a98-803c-71c8c765a099",
   "metadata": {},
   "source": [
    "# Experiments for each hyperparameter combination"
   ]
  },
  {
   "cell_type": "markdown",
   "id": "0b960589-5c10-4630-bdc5-101f8d40c93b",
   "metadata": {},
   "source": [
    "## Basic hyperparameters: Alpha = 0.5, Gamma = 0.9, and Epsilon = 0.10"
   ]
  },
  {
   "cell_type": "code",
   "execution_count": 61,
   "id": "a00d338b-078b-40cc-bf69-b535f06436e8",
   "metadata": {
    "tags": []
   },
   "outputs": [
    {
     "name": "stdout",
     "output_type": "stream",
     "text": [
      "---------------------------------------\n",
      "| -0.434 | 0.629  | 1.81   | 3.122  | 4.58   | \n",
      "---------------------------------------\n",
      "| -5     | 1.81   | 3.122  | -5     | 6.2    | \n",
      "---------------------------------------\n",
      "| 1.81   | 3.122  | 4.58   | 6.2    | 8.0    | \n",
      "---------------------------------------\n",
      "| 0      | -5     | 6.2    | 8.0    | 10.0   | \n",
      "---------------------------------------\n",
      "| 0      | 0      | -5     | 10.0   | 10     | \n",
      "----------------------------------------\n",
      "None\n"
     ]
    }
   ],
   "source": [
    "ag_basic = Agent(alpha=0.5, gamma=0.9, eps=0.10)\n",
    "ag_basic.q_learning(10000)\n",
    "print(ag_basic.showValues())\n",
    "\n",
    "with open(\"max_action_value_estimates_basic_hyperparam.txt\", \"w\") as f:\n",
    "    print(ag_basic.action_values, file=f)"
   ]
  },
  {
   "cell_type": "code",
   "execution_count": 67,
   "id": "c051a4c9-5032-4aa6-a78b-e914a2352a3e",
   "metadata": {
    "tags": []
   },
   "outputs": [
    {
     "data": {
      "image/png": "[encoded data removed]",
      "text/plain": [
       "<Figure size 640x480 with 1 Axes>"
      ]
     },
     "metadata": {},
     "output_type": "display_data"
    }
   ],
   "source": [
    "plt.plot(ag_basic.cumulative_average, label='basic')\n",
    "plt.xscale('log')\n",
    "plt.legend(loc='best')\n",
    "plt.show()"
   ]
  },
  {
   "cell_type": "markdown",
   "id": "fdb3abb1-50f7-4016-b9a9-bc867473f157",
   "metadata": {},
   "source": [
    "## Epsilon decay: Alpha = 0.5, Gamma = 0.9, and Epsilon in range (0.10, 0.0)."
   ]
  },
  {
   "cell_type": "code",
   "execution_count": 63,
   "id": "decb3946-5049-412e-9760-2c58c7c1d13c",
   "metadata": {},
   "outputs": [
    {
     "name": "stdout",
     "output_type": "stream",
     "text": [
      "---------------------------------------\n",
      "| -0.434 | 0.629  | 1.81   | 3.122  | 4.58   | \n",
      "---------------------------------------\n",
      "| -5     | 0.0    | 1.329  | -5     | 6.2    | \n",
      "---------------------------------------\n",
      "| 0      | 2.026  | 4.474  | 6.2    | 8.0    | \n",
      "---------------------------------------\n",
      "| 0      | 0      | 5.781  | 8.0    | 10.0   | \n",
      "---------------------------------------\n",
      "| 0      | 0      | 0      | 7.5    | 10     | \n",
      "----------------------------------------\n",
      "None\n"
     ]
    }
   ],
   "source": [
    "ag_decay = Agent(alpha=0.5, gamma=0.9, eps=0.10, eps_decay=True)\n",
    "ag_decay.q_learning(10000)\n",
    "print(ag_decay.showValues())\n",
    "\n",
    "with open(\"max_action_value_estimates_epsilon_decay.txt\", \"w\") as f:\n",
    "    print(ag_decay.action_values, file=f)"
   ]
  },
  {
   "cell_type": "code",
   "execution_count": 68,
   "id": "d34c70ca-bc9a-4775-921c-0bc9cd467ffa",
   "metadata": {},
   "outputs": [
    {
     "data": {
      "image/png": "[encoded data removed]",
      "text/plain": [
       "<Figure size 640x480 with 1 Axes>"
      ]
     },
     "metadata": {},
     "output_type": "display_data"
    }
   ],
   "source": [
    "plt.plot(ag_decay.cumulative_average, label='epsilon decay')\n",
    "plt.xscale('log')\n",
    "plt.legend(loc='best')\n",
    "plt.show()"
   ]
  },
  {
   "cell_type": "markdown",
   "id": "9671acc8-4538-4597-b6e9-80141066256e",
   "metadata": {},
   "source": [
    "## Your own choice"
   ]
  },
  {
   "cell_type": "code",
   "execution_count": 101,
   "id": "947628bc-ff15-4328-ba0e-4774490e0a39",
   "metadata": {
    "tags": []
   },
   "outputs": [
    {
     "name": "stdout",
     "output_type": "stream",
     "text": [
      "---------------------------------------\n",
      "| -0.434 | 0.629  | 1.81   | 3.122  | 4.58   | \n",
      "---------------------------------------\n",
      "| -5     | -0.434 | 1.458  | -5     | 6.2    | \n",
      "---------------------------------------\n",
      "| 0      | 1.343  | 4.257  | 6.2    | 8.0    | \n",
      "---------------------------------------\n",
      "| 0      | 0      | 5.106  | 8.0    | 10.0   | \n",
      "---------------------------------------\n",
      "| 0      | 0      | 0      | 5.0    | 10     | \n",
      "----------------------------------------\n",
      "None\n"
     ]
    }
   ],
   "source": [
    "myag = Agent(alpha=0.5, gamma=0.9, eps=0.09, eps_decay=True)\n",
    "myag.q_learning(10000)\n",
    "print(myag.showValues())\n",
    "\n",
    "with open(\"max_action_value_estimates_myag.txt\", \"w\") as f:\n",
    "    print(myag.action_values, file=f)"
   ]
  },
  {
   "cell_type": "code",
   "execution_count": 102,
   "id": "edb9b528-2a4d-4d52-8fd1-faed4346ab51",
   "metadata": {
    "tags": []
   },
   "outputs": [
    {
     "data": {
      "image/png": "[encoded data removed]",
      "text/plain": [
       "<Figure size 640x480 with 1 Axes>"
      ]
     },
     "metadata": {},
     "output_type": "display_data"
    }
   ],
   "source": [
    "plt.plot(myag.cumulative_average, label='own choice')\n",
    "plt.xscale('log')\n",
    "plt.legend(loc='best')\n",
    "plt.show()"
   ]
  },
  {
   "cell_type": "markdown",
   "id": "442c7bdc-5399-4dba-b3b3-2a46121fe436",
   "metadata": {},
   "source": [
    "## Plot the the average of cumulative rewards of three experiments of different hyperparameter combination"
   ]
  },
  {
   "cell_type": "code",
   "execution_count": 103,
   "id": "2e0cca56-4e42-4f54-aac6-978b4e0c494e",
   "metadata": {},
   "outputs": [
    {
     "data": {
      "image/png": "[encoded data removed]",
      "text/plain": [
       "<Figure size 640x480 with 1 Axes>"
      ]
     },
     "metadata": {},
     "output_type": "display_data"
    }
   ],
   "source": [
    "plt.plot(ag_basic.cumulative_average, label='basic')\n",
    "plt.plot(ag_decay.cumulative_average, label='epsilon decay')\n",
    "plt.plot(myag.cumulative_average, label='own choice')\n",
    "plt.xscale('log')\n",
    "plt.legend(loc='best')\n",
    "plt.show()"
   ]
  },
  {
   "cell_type": "code",
   "execution_count": null,
   "id": "1ea273c0-7bae-437c-9cde-05db06018ee0",
   "metadata": {},
   "outputs": [],
   "source": []
  }
 ],
 "metadata": {
  "kernelspec": {
   "display_name": "Python 3 (ipykernel)",
   "language": "python",
   "name": "python3"
  },
  "language_info": {
   "codemirror_mode": {
    "name": "ipython",
    "version": 3
   },
   "file_extension": ".py",
   "mimetype": "text/x-python",
   "name": "python",
   "nbconvert_exporter": "python",
   "pygments_lexer": "ipython3",
   "version": "3.9.16"
  }
 },
 "nbformat": 4,
 "nbformat_minor": 5
}
